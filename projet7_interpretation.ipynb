{
 "cells": [
  {
   "cell_type": "markdown",
   "metadata": {
    "Collapsed": "false"
   },
   "source": [
    "# Chargement du modèle"
   ]
  },
  {
   "cell_type": "code",
   "execution_count": 26,
   "metadata": {
    "Collapsed": "false"
   },
   "outputs": [
    {
     "data": {
      "text/plain": [
       "Pipeline(memory=None,\n",
       "         steps=[('preprocess',\n",
       "                 Pipeline(memory=None,\n",
       "                          steps=[('scale',\n",
       "                                  StandardScaler(copy=True, with_mean=True,\n",
       "                                                 with_std=True))],\n",
       "                          verbose=False)),\n",
       "                ('model',\n",
       "                 LogisticRegression(C=1.3348904828439347,\n",
       "                                    class_weight='balanced', dual=False,\n",
       "                                    fit_intercept=True, intercept_scaling=1,\n",
       "                                    l1_ratio=None, max_iter=477,\n",
       "                                    multi_class='auto', n_jobs=None,\n",
       "                                    penalty='l2', random_state=None,\n",
       "                                    solver='liblinear',\n",
       "                                    tol=2.0533801171184104e-05, verbose=0,\n",
       "                                    warm_start=True))],\n",
       "         verbose=False)"
      ]
     },
     "execution_count": 26,
     "metadata": {},
     "output_type": "execute_result"
    }
   ],
   "source": [
    "# Load libraries\n",
    "import sklearn\n",
    "import joblib\n",
    "\n",
    "# Get scikit-learn version\n",
    "scikit_version = sklearn.__version__\n",
    "\n",
    "# Load the model\n",
    "pipe = joblib.load(\"models/model_{version}.pkl\".format(version=scikit_version))\n",
    "\n",
    "# display the model\n",
    "pipe"
   ]
  },
  {
   "cell_type": "markdown",
   "metadata": {
    "Collapsed": "false"
   },
   "source": [
    "# Préparation des données transformées"
   ]
  },
  {
   "cell_type": "code",
   "execution_count": 27,
   "metadata": {
    "Collapsed": "false",
    "_uuid": "e8384e3033ee466ab3c426d8330822e974ad3c1b"
   },
   "outputs": [
    {
     "name": "stdout",
     "output_type": "stream",
     "text": [
      "Featured training data set shape:  (288028, 216)\n"
     ]
    },
    {
     "data": {
      "text/html": [
       "<div>\n",
       "<style scoped>\n",
       "    .dataframe tbody tr th:only-of-type {\n",
       "        vertical-align: middle;\n",
       "    }\n",
       "\n",
       "    .dataframe tbody tr th {\n",
       "        vertical-align: top;\n",
       "    }\n",
       "\n",
       "    .dataframe thead th {\n",
       "        text-align: right;\n",
       "    }\n",
       "</style>\n",
       "<table border=\"1\" class=\"dataframe\">\n",
       "  <thead>\n",
       "    <tr style=\"text-align: right;\">\n",
       "      <th></th>\n",
       "      <th>EXT_SOURCE_2</th>\n",
       "      <th>client_installments_AMT_PAYMENT_min_sum</th>\n",
       "      <th>DAYS_BIRTH</th>\n",
       "      <th>AMT_CREDIT</th>\n",
       "      <th>AMT_ANNUITY</th>\n",
       "      <th>DAYS_EMPLOYED</th>\n",
       "      <th>DAYS_ID_PUBLISH</th>\n",
       "      <th>DAYS_REGISTRATION</th>\n",
       "      <th>previous_loans_CNT_PAYMENT_mean</th>\n",
       "      <th>client_cash_CNT_INSTALMENT_FUTURE_min_max</th>\n",
       "      <th>...</th>\n",
       "      <th>previous_loans_WEEKDAY_APPR_PROCESS_START_WEDNESDAY_count_norm</th>\n",
       "      <th>previous_loans_NAME_CONTRACT_STATUS_Approved_count</th>\n",
       "      <th>client_cash_CNT_INSTALMENT_min_max</th>\n",
       "      <th>WALLSMATERIAL_MODE_Stone, brick</th>\n",
       "      <th>previous_loans_NAME_TYPE_SUITE_Children_count_norm</th>\n",
       "      <th>previous_loans_PRODUCT_COMBINATION_Cash_count_norm</th>\n",
       "      <th>previous_loans_NAME_GOODS_CATEGORY_Sport and Leisure_count_norm</th>\n",
       "      <th>previous_loans_NAME_SELLER_INDUSTRY_Consumer electronics_count</th>\n",
       "      <th>client_cash_CNT_INSTALMENT_min_min</th>\n",
       "      <th>TARGET</th>\n",
       "    </tr>\n",
       "    <tr>\n",
       "      <th>SK_ID_CURR</th>\n",
       "      <th></th>\n",
       "      <th></th>\n",
       "      <th></th>\n",
       "      <th></th>\n",
       "      <th></th>\n",
       "      <th></th>\n",
       "      <th></th>\n",
       "      <th></th>\n",
       "      <th></th>\n",
       "      <th></th>\n",
       "      <th></th>\n",
       "      <th></th>\n",
       "      <th></th>\n",
       "      <th></th>\n",
       "      <th></th>\n",
       "      <th></th>\n",
       "      <th></th>\n",
       "      <th></th>\n",
       "      <th></th>\n",
       "      <th></th>\n",
       "      <th></th>\n",
       "    </tr>\n",
       "  </thead>\n",
       "  <tbody>\n",
       "    <tr>\n",
       "      <th>100002</th>\n",
       "      <td>0.262949</td>\n",
       "      <td>175783.725</td>\n",
       "      <td>-9461</td>\n",
       "      <td>406597.5</td>\n",
       "      <td>24700.5</td>\n",
       "      <td>-637</td>\n",
       "      <td>-2120</td>\n",
       "      <td>-3648.0</td>\n",
       "      <td>24.000000</td>\n",
       "      <td>6.0</td>\n",
       "      <td>...</td>\n",
       "      <td>0.0</td>\n",
       "      <td>1.0</td>\n",
       "      <td>24.0</td>\n",
       "      <td>1</td>\n",
       "      <td>0.0</td>\n",
       "      <td>0.000000</td>\n",
       "      <td>0.0</td>\n",
       "      <td>0.0</td>\n",
       "      <td>24.0</td>\n",
       "      <td>1</td>\n",
       "    </tr>\n",
       "    <tr>\n",
       "      <th>100003</th>\n",
       "      <td>0.622246</td>\n",
       "      <td>1154108.295</td>\n",
       "      <td>-16765</td>\n",
       "      <td>1293502.5</td>\n",
       "      <td>35698.5</td>\n",
       "      <td>-1188</td>\n",
       "      <td>-291</td>\n",
       "      <td>-1186.0</td>\n",
       "      <td>10.000000</td>\n",
       "      <td>1.0</td>\n",
       "      <td>...</td>\n",
       "      <td>0.0</td>\n",
       "      <td>3.0</td>\n",
       "      <td>12.0</td>\n",
       "      <td>0</td>\n",
       "      <td>0.0</td>\n",
       "      <td>0.000000</td>\n",
       "      <td>0.0</td>\n",
       "      <td>1.0</td>\n",
       "      <td>6.0</td>\n",
       "      <td>0</td>\n",
       "    </tr>\n",
       "    <tr>\n",
       "      <th>100004</th>\n",
       "      <td>0.555912</td>\n",
       "      <td>16071.750</td>\n",
       "      <td>-19046</td>\n",
       "      <td>135000.0</td>\n",
       "      <td>6750.0</td>\n",
       "      <td>-225</td>\n",
       "      <td>-2531</td>\n",
       "      <td>-4260.0</td>\n",
       "      <td>4.000000</td>\n",
       "      <td>0.0</td>\n",
       "      <td>...</td>\n",
       "      <td>0.0</td>\n",
       "      <td>1.0</td>\n",
       "      <td>3.0</td>\n",
       "      <td>0</td>\n",
       "      <td>0.0</td>\n",
       "      <td>0.000000</td>\n",
       "      <td>0.0</td>\n",
       "      <td>0.0</td>\n",
       "      <td>3.0</td>\n",
       "      <td>0</td>\n",
       "    </tr>\n",
       "    <tr>\n",
       "      <th>100006</th>\n",
       "      <td>0.650442</td>\n",
       "      <td>994476.690</td>\n",
       "      <td>-19005</td>\n",
       "      <td>312682.5</td>\n",
       "      <td>29686.5</td>\n",
       "      <td>-3039</td>\n",
       "      <td>-2437</td>\n",
       "      <td>-9833.0</td>\n",
       "      <td>23.000000</td>\n",
       "      <td>3.0</td>\n",
       "      <td>...</td>\n",
       "      <td>0.0</td>\n",
       "      <td>5.0</td>\n",
       "      <td>12.0</td>\n",
       "      <td>0</td>\n",
       "      <td>0.0</td>\n",
       "      <td>0.222222</td>\n",
       "      <td>0.0</td>\n",
       "      <td>1.0</td>\n",
       "      <td>1.0</td>\n",
       "      <td>0</td>\n",
       "    </tr>\n",
       "    <tr>\n",
       "      <th>100007</th>\n",
       "      <td>0.322738</td>\n",
       "      <td>483756.390</td>\n",
       "      <td>-19932</td>\n",
       "      <td>513000.0</td>\n",
       "      <td>21865.5</td>\n",
       "      <td>-3038</td>\n",
       "      <td>-3458</td>\n",
       "      <td>-4311.0</td>\n",
       "      <td>20.666667</td>\n",
       "      <td>13.0</td>\n",
       "      <td>...</td>\n",
       "      <td>0.0</td>\n",
       "      <td>6.0</td>\n",
       "      <td>24.0</td>\n",
       "      <td>0</td>\n",
       "      <td>0.0</td>\n",
       "      <td>0.000000</td>\n",
       "      <td>0.0</td>\n",
       "      <td>3.0</td>\n",
       "      <td>10.0</td>\n",
       "      <td>0</td>\n",
       "    </tr>\n",
       "  </tbody>\n",
       "</table>\n",
       "<p>5 rows × 216 columns</p>\n",
       "</div>"
      ],
      "text/plain": [
       "            EXT_SOURCE_2  client_installments_AMT_PAYMENT_min_sum  DAYS_BIRTH  \\\n",
       "SK_ID_CURR                                                                      \n",
       "100002          0.262949                               175783.725       -9461   \n",
       "100003          0.622246                              1154108.295      -16765   \n",
       "100004          0.555912                                16071.750      -19046   \n",
       "100006          0.650442                               994476.690      -19005   \n",
       "100007          0.322738                               483756.390      -19932   \n",
       "\n",
       "            AMT_CREDIT  AMT_ANNUITY  DAYS_EMPLOYED  DAYS_ID_PUBLISH  \\\n",
       "SK_ID_CURR                                                            \n",
       "100002        406597.5      24700.5           -637            -2120   \n",
       "100003       1293502.5      35698.5          -1188             -291   \n",
       "100004        135000.0       6750.0           -225            -2531   \n",
       "100006        312682.5      29686.5          -3039            -2437   \n",
       "100007        513000.0      21865.5          -3038            -3458   \n",
       "\n",
       "            DAYS_REGISTRATION  previous_loans_CNT_PAYMENT_mean  \\\n",
       "SK_ID_CURR                                                       \n",
       "100002                -3648.0                        24.000000   \n",
       "100003                -1186.0                        10.000000   \n",
       "100004                -4260.0                         4.000000   \n",
       "100006                -9833.0                        23.000000   \n",
       "100007                -4311.0                        20.666667   \n",
       "\n",
       "            client_cash_CNT_INSTALMENT_FUTURE_min_max  ...  \\\n",
       "SK_ID_CURR                                             ...   \n",
       "100002                                            6.0  ...   \n",
       "100003                                            1.0  ...   \n",
       "100004                                            0.0  ...   \n",
       "100006                                            3.0  ...   \n",
       "100007                                           13.0  ...   \n",
       "\n",
       "            previous_loans_WEEKDAY_APPR_PROCESS_START_WEDNESDAY_count_norm  \\\n",
       "SK_ID_CURR                                                                   \n",
       "100002                                                    0.0                \n",
       "100003                                                    0.0                \n",
       "100004                                                    0.0                \n",
       "100006                                                    0.0                \n",
       "100007                                                    0.0                \n",
       "\n",
       "            previous_loans_NAME_CONTRACT_STATUS_Approved_count  \\\n",
       "SK_ID_CURR                                                       \n",
       "100002                                                    1.0    \n",
       "100003                                                    3.0    \n",
       "100004                                                    1.0    \n",
       "100006                                                    5.0    \n",
       "100007                                                    6.0    \n",
       "\n",
       "            client_cash_CNT_INSTALMENT_min_max  \\\n",
       "SK_ID_CURR                                       \n",
       "100002                                    24.0   \n",
       "100003                                    12.0   \n",
       "100004                                     3.0   \n",
       "100006                                    12.0   \n",
       "100007                                    24.0   \n",
       "\n",
       "            WALLSMATERIAL_MODE_Stone, brick  \\\n",
       "SK_ID_CURR                                    \n",
       "100002                                    1   \n",
       "100003                                    0   \n",
       "100004                                    0   \n",
       "100006                                    0   \n",
       "100007                                    0   \n",
       "\n",
       "            previous_loans_NAME_TYPE_SUITE_Children_count_norm  \\\n",
       "SK_ID_CURR                                                       \n",
       "100002                                                    0.0    \n",
       "100003                                                    0.0    \n",
       "100004                                                    0.0    \n",
       "100006                                                    0.0    \n",
       "100007                                                    0.0    \n",
       "\n",
       "            previous_loans_PRODUCT_COMBINATION_Cash_count_norm  \\\n",
       "SK_ID_CURR                                                       \n",
       "100002                                               0.000000    \n",
       "100003                                               0.000000    \n",
       "100004                                               0.000000    \n",
       "100006                                               0.222222    \n",
       "100007                                               0.000000    \n",
       "\n",
       "            previous_loans_NAME_GOODS_CATEGORY_Sport and Leisure_count_norm  \\\n",
       "SK_ID_CURR                                                                    \n",
       "100002                                                    0.0                 \n",
       "100003                                                    0.0                 \n",
       "100004                                                    0.0                 \n",
       "100006                                                    0.0                 \n",
       "100007                                                    0.0                 \n",
       "\n",
       "            previous_loans_NAME_SELLER_INDUSTRY_Consumer electronics_count  \\\n",
       "SK_ID_CURR                                                                   \n",
       "100002                                                    0.0                \n",
       "100003                                                    1.0                \n",
       "100004                                                    0.0                \n",
       "100006                                                    1.0                \n",
       "100007                                                    3.0                \n",
       "\n",
       "            client_cash_CNT_INSTALMENT_min_min  TARGET  \n",
       "SK_ID_CURR                                              \n",
       "100002                                    24.0       1  \n",
       "100003                                     6.0       0  \n",
       "100004                                     3.0       0  \n",
       "100006                                     1.0       0  \n",
       "100007                                    10.0       0  \n",
       "\n",
       "[5 rows x 216 columns]"
      ]
     },
     "execution_count": 27,
     "metadata": {},
     "output_type": "execute_result"
    }
   ],
   "source": [
    "# load libraries\n",
    "import pandas as pd\n",
    "\n",
    "data_train_featured = pd.read_csv('data/cleaned/data_train_featured.csv', index_col='SK_ID_CURR')\n",
    "print('Featured training data set shape: ', data_train_featured.shape)\n",
    "data_train_featured.head()"
   ]
  },
  {
   "cell_type": "code",
   "execution_count": 28,
   "metadata": {
    "Collapsed": "false"
   },
   "outputs": [],
   "source": [
    "from sklearn.impute import SimpleImputer\n",
    "\n",
    "# Split features and targets\n",
    "target_train = data_train_featured['TARGET']\n",
    "data_train_featured = data_train_featured.drop(columns='TARGET')\n",
    "feature_names = data_train_featured.columns\n",
    "index = data_train_featured.index\n",
    "\n",
    "# Imputations\n",
    "imp_mean = SimpleImputer(strategy='mean')\n",
    "imp_mean.fit(data_train_featured)\n",
    "data_train_featured = pd.DataFrame(\n",
    "    imp_mean.transform(data_train_featured),\n",
    "    columns=feature_names,\n",
    "    index=index\n",
    ")"
   ]
  },
  {
   "cell_type": "markdown",
   "metadata": {
    "Collapsed": "false"
   },
   "source": [
    "# Préparation des données initiales"
   ]
  },
  {
   "cell_type": "code",
   "execution_count": 30,
   "metadata": {
    "Collapsed": "false"
   },
   "outputs": [
    {
     "name": "stdout",
     "output_type": "stream",
     "text": [
      "Original training set (application_set) shape:  (307511, 121)\n"
     ]
    }
   ],
   "source": [
    "import pandas as pd\n",
    "\n",
    "data_train_original = pd.read_csv('data/input/application_train.csv', index_col='SK_ID_CURR')\n",
    "print('Original training set (application_set) shape: ', data_train_original.shape)"
   ]
  },
  {
   "cell_type": "code",
   "execution_count": 34,
   "metadata": {
    "Collapsed": "false"
   },
   "outputs": [],
   "source": [
    "mask = data_train_original.index.isin(data_train_featured.index)\n",
    "\n",
    "# Keep only points that are in the engineered set\n",
    "data_train_original = data_train_original[mask]\n",
    "\n",
    "# Drop target column\n",
    "data_train_original = data_train_original.drop(columns='TARGET')"
   ]
  },
  {
   "cell_type": "code",
   "execution_count": 40,
   "metadata": {
    "Collapsed": "false"
   },
   "outputs": [],
   "source": [
    "# Get the predictions of the model (for positive class: default)\n",
    "y_train_pred = pipe.predict_proba(data_train_featured)[:,1]\n",
    "y_train_pred = pd.Series(\n",
    "    y_train_pred,\n",
    "    index=data_train_featured.index,\n",
    ")\n",
    "\n",
    "# Save the predictions\n",
    "y_train_pred.to_csv(\n",
    "    'data/cleaned/target_train_predictions.csv',\n",
    "    header='TARGET')"
   ]
  },
  {
   "cell_type": "code",
   "execution_count": null,
   "metadata": {
    "Collapsed": "false"
   },
   "outputs": [],
   "source": [
    "from sklearn.impute import SimpleImputer\n",
    "\n",
    "# Imputation of missing values for numerical features\n",
    "numerical_features = list(data_train_original.select_dtypes(include='number').columns)\n",
    "data_train_original[numerical_features] = SimpleImputer(strategy='mean').fit_transform(data_train_original[numerical_features])\n",
    "\n",
    "# Imputation of missing values for categorical features\n",
    "categorical_features = list(data_train_original.select_dtypes(include='object').columns)\n",
    "data_train_original[categorical_features] = SimpleImputer(strategy='constant', fill_value='missing').fit_transform(data_train_original[categorical_features])\n",
    "\n",
    "# Display results\n",
    "print(\"Remaining missing values:\", data_train_original.isna().any().any())"
   ]
  },
  {
   "cell_type": "code",
   "execution_count": 46,
   "metadata": {
    "Collapsed": "false"
   },
   "outputs": [],
   "source": [
    "# label encoding of each categorical feature\n",
    "categorical_names = {} # dictionnary of modalities for each cat. feature\n",
    "label_encoders = {} # dictionnary of encoders for each cat. feature\n",
    "for feature in categorical_features:\n",
    "    le = sklearn.preprocessing.LabelEncoder()\n",
    "    data_train_original.loc[:, feature] = le.fit_transform(data_train_original.loc[:, feature])\n",
    "    categorical_names[feature] = le.classes_\n",
    "    label_encoders[feature] = le\n",
    "\n",
    "# Save the processed original data\n",
    "data_train_original.to_csv('data/cleaned/data_train_original.csv')"
   ]
  },
  {
   "cell_type": "markdown",
   "metadata": {
    "Collapsed": "false"
   },
   "source": [
    "# Modèle de substitution (*Surrogate model*)"
   ]
  },
  {
   "cell_type": "markdown",
   "metadata": {
    "Collapsed": "false"
   },
   "source": [
    "## Interprétation globale"
   ]
  },
  {
   "cell_type": "code",
   "execution_count": 50,
   "metadata": {
    "Collapsed": "false"
   },
   "outputs": [
    {
     "data": {
      "text/plain": [
       "DecisionTreeRegressor(criterion='mse', max_depth=None, max_features=None,\n",
       "                      max_leaf_nodes=None, min_impurity_decrease=0.0,\n",
       "                      min_impurity_split=None, min_samples_leaf=1,\n",
       "                      min_samples_split=2, min_weight_fraction_leaf=0.0,\n",
       "                      presort=False, random_state=None, splitter='best')"
      ]
     },
     "execution_count": 50,
     "metadata": {},
     "output_type": "execute_result"
    }
   ],
   "source": [
    "from sklearn.tree import DecisionTreeRegressor\n",
    "\n",
    "# Instanciate a surrogate model without depth limit to overfit\n",
    "sur_dt = DecisionTreeRegressor()\n",
    "\n",
    "# Over-fitting the surrogate model on original features\n",
    "sur_dt.fit(data_train_original, y_train_pred)"
   ]
  },
  {
   "cell_type": "code",
   "execution_count": 132,
   "metadata": {
    "Collapsed": "false"
   },
   "outputs": [
    {
     "name": "stdout",
     "output_type": "stream",
     "text": [
      "Main features per importance:\n",
      "EXT_SOURCE_2                     0.368\n",
      "DAYS_BIRTH                       0.103\n",
      "NAME_EDUCATION_TYPE              0.040\n",
      "EXT_SOURCE_3                     0.039\n",
      "DAYS_LAST_PHONE_CHANGE           0.037\n",
      "CODE_GENDER                      0.035\n",
      "DAYS_ID_PUBLISH                  0.031\n",
      "DAYS_REGISTRATION                0.023\n",
      "DAYS_EMPLOYED                    0.019\n",
      "AMT_ANNUITY                      0.016\n",
      "Percentage of the model explained by the 10 first features: 71.16472795408532\n"
     ]
    }
   ],
   "source": [
    "print(\"Main features per importance:\")\n",
    "\n",
    "sum_val = 0\n",
    "for col, val in sorted(zip(data_train_original.columns, sur_dt.feature_importances_,), key=lambda x: x[1], reverse=True,)[:10]:\n",
    "    print(f\"{col:28}{val:10.3f}\")\n",
    "    sum_val += val\n",
    "    \n",
    "print(\"Percentage of the model explained by the 10 first features:\", sum_val*100)"
   ]
  },
  {
   "cell_type": "markdown",
   "metadata": {
    "Collapsed": "false"
   },
   "source": [
    "## Interprétation locale"
   ]
  },
  {
   "cell_type": "code",
   "execution_count": 129,
   "metadata": {
    "Collapsed": "false"
   },
   "outputs": [
    {
     "name": "stdout",
     "output_type": "stream",
     "text": [
      "Application ID: 100002\n",
      "Predicted value: 0.8417595358522602\n"
     ]
    }
   ],
   "source": [
    "application_id = 100002\n",
    "application_data = data_train_original.loc[application_id:application_id]\n",
    "\n",
    "print(\"Application ID:\", application_id)\n",
    "print(\"Predicted value:\", y_train_pred.loc[application_id])"
   ]
  },
  {
   "cell_type": "code",
   "execution_count": 130,
   "metadata": {
    "Collapsed": "false"
   },
   "outputs": [
    {
     "name": "stdout",
     "output_type": "stream",
     "text": [
      "Prediction: [0.84175954]\n",
      "Bias (trainset mean): 0.4246449135303252\n",
      "Main features contributions:\n",
      "   EXT_SOURCE_2                    0.12542015088740555\n",
      "   DAYS_BIRTH                      0.06348533572265769\n",
      "   CODE_GENDER                     0.05041459286843275\n",
      "   DEF_30_CNT_SOCIAL_CIRCLE        0.04755578403967442\n",
      "   AMT_GOODS_PRICE                 0.027402686138232935\n",
      "   NAME_EDUCATION_TYPE             0.02258049054571709\n",
      "   DAYS_LAST_PHONE_CHANGE          0.0183454766541562\n",
      "   DAYS_ID_PUBLISH                 0.017498736200626253\n",
      "   HOUR_APPR_PROCESS_START         -0.0136952881865966\n",
      "   FLAG_DOCUMENT_3                 0.012374783640661469\n",
      "   NAME_CONTRACT_TYPE              0.009710204595902328\n",
      "   YEARS_BEGINEXPLUATATION_MODE    0.00941549145422238\n",
      "   REG_CITY_NOT_LIVE_CITY          -0.009369183776955614\n",
      "   BASEMENTAREA_MEDI               0.007986378089045343\n",
      "   REGION_POPULATION_RELATIVE      0.007924409664567533\n",
      "   ENTRANCES_MEDI                  0.007777792701513575\n",
      "   OWN_CAR_AGE                     0.007716302971938149\n",
      "   FLAG_DOCUMENT_18                0.0019782671246192374\n",
      "   FLAG_DOCUMENT_16                0.0017735372902840663\n",
      "   WALLSMATERIAL_MODE              0.0013121520716373736\n",
      "   OBS_30_CNT_SOCIAL_CIRCLE        -0.0004934783758071548\n"
     ]
    }
   ],
   "source": [
    "from treeinterpreter import treeinterpreter as ti\n",
    "\n",
    "# Computation of the prediction, bias and contribs from surrogate model\n",
    "prediction, bias, contribs = ti.predict(sur_dt, application_data)\n",
    "\n",
    "print(\"Prediction:\", prediction[i])\n",
    "\n",
    "print(\"Bias (trainset mean):\", bias[i])\n",
    "\n",
    "print(\"Main features contributions:\")\n",
    "for contrib, feature in sorted(zip(contribs[0], data_train_original.columns), key=lambda x: abs(x[0]), reverse=True,):\n",
    "    if contrib != 0:\n",
    "        print(\"   {:32}{}\".format(feature, contrib))"
   ]
  },
  {
   "cell_type": "markdown",
   "metadata": {
    "Collapsed": "false"
   },
   "source": [
    "# Description des variables"
   ]
  },
  {
   "cell_type": "code",
   "execution_count": 138,
   "metadata": {
    "Collapsed": "false"
   },
   "outputs": [
    {
     "data": {
      "text/html": [
       "<div>\n",
       "<style scoped>\n",
       "    .dataframe tbody tr th:only-of-type {\n",
       "        vertical-align: middle;\n",
       "    }\n",
       "\n",
       "    .dataframe tbody tr th {\n",
       "        vertical-align: top;\n",
       "    }\n",
       "\n",
       "    .dataframe thead th {\n",
       "        text-align: right;\n",
       "    }\n",
       "</style>\n",
       "<table border=\"1\" class=\"dataframe\">\n",
       "  <thead>\n",
       "    <tr style=\"text-align: right;\">\n",
       "      <th></th>\n",
       "      <th>Unnamed: 0</th>\n",
       "      <th>Table</th>\n",
       "      <th>Row</th>\n",
       "      <th>Description</th>\n",
       "      <th>Special</th>\n",
       "    </tr>\n",
       "  </thead>\n",
       "  <tbody>\n",
       "    <tr>\n",
       "      <th>0</th>\n",
       "      <td>1</td>\n",
       "      <td>application_{train|test}.csv</td>\n",
       "      <td>SK_ID_CURR</td>\n",
       "      <td>ID of loan in our sample</td>\n",
       "      <td>NaN</td>\n",
       "    </tr>\n",
       "    <tr>\n",
       "      <th>1</th>\n",
       "      <td>2</td>\n",
       "      <td>application_{train|test}.csv</td>\n",
       "      <td>TARGET</td>\n",
       "      <td>Target variable (1 - client with payment diffi...</td>\n",
       "      <td>NaN</td>\n",
       "    </tr>\n",
       "  </tbody>\n",
       "</table>\n",
       "</div>"
      ],
      "text/plain": [
       "   Unnamed: 0                         Table         Row  \\\n",
       "0           1  application_{train|test}.csv  SK_ID_CURR   \n",
       "1           2  application_{train|test}.csv      TARGET   \n",
       "\n",
       "                                         Description Special  \n",
       "0                           ID of loan in our sample     NaN  \n",
       "1  Target variable (1 - client with payment diffi...     NaN  "
      ]
     },
     "execution_count": 138,
     "metadata": {},
     "output_type": "execute_result"
    }
   ],
   "source": [
    "# Loading the file with descriptions\n",
    "features_descriptions = pd.read_csv('data/HomeCredit_columns_description.csv', encoding='iso-8859-1')\n",
    "features_descriptions.head(2)"
   ]
  },
  {
   "cell_type": "code",
   "execution_count": 135,
   "metadata": {
    "Collapsed": "false"
   },
   "outputs": [
    {
     "data": {
      "text/plain": [
       "Row\n",
       "SK_ID_CURR                                     ID of loan in our sample\n",
       "TARGET                Target variable (1 - client with payment diffi...\n",
       "NAME_CONTRACT_TYPE          Identification if loan is cash or revolving\n",
       "CODE_GENDER                                        Gender of the client\n",
       "FLAG_OWN_CAR                              Flag if the client owns a car\n",
       "Name: Description, dtype: object"
      ]
     },
     "execution_count": 135,
     "metadata": {},
     "output_type": "execute_result"
    }
   ],
   "source": [
    "# filtering features from 'application_train' table\n",
    "mask = features_descriptions['Table'] == 'application_{train|test}.csv'\n",
    "features_descriptions = features_descriptions[mask]\n",
    "\n",
    "# setting the name of the feature as index\n",
    "features_descriptions = features_descriptions.set_index('Row')\n",
    "\n",
    "# keeping only description\n",
    "features_descriptions = features_descriptions['Description']\n",
    "\n",
    "# display result\n",
    "features_descriptions.head()"
   ]
  },
  {
   "cell_type": "code",
   "execution_count": 137,
   "metadata": {
    "Collapsed": "false"
   },
   "outputs": [
    {
     "name": "stdout",
     "output_type": "stream",
     "text": [
      "NAME_CONTRACT_TYPE Identification if loan is cash or revolving\n",
      "CODE_GENDER Gender of the client\n",
      "FLAG_OWN_CAR Flag if the client owns a car\n",
      "FLAG_OWN_REALTY Flag if client owns a house or flat\n",
      "CNT_CHILDREN Number of children the client has\n"
     ]
    }
   ],
   "source": [
    "# Checking the result\n",
    "for column in data_train_original.columns[:5]:\n",
    "    print(column, features_descriptions[column])"
   ]
  }
 ],
 "metadata": {
  "kernelspec": {
   "display_name": "Python 3",
   "language": "python",
   "name": "python3"
  },
  "language_info": {
   "codemirror_mode": {
    "name": "ipython",
    "version": 3
   },
   "file_extension": ".py",
   "mimetype": "text/x-python",
   "name": "python",
   "nbconvert_exporter": "python",
   "pygments_lexer": "ipython3",
   "version": "3.7.5"
  }
 },
 "nbformat": 4,
 "nbformat_minor": 4
}
